{
 "cells": [
  {
   "cell_type": "code",
   "execution_count": null,
   "metadata": {},
   "outputs": [],
   "source": [
    "import requests\n",
    "from bs4 import BeautifulSoup\n",
    "import csv\n",
    "\n",
    "# Change to new url of love and lemons listed recipes - to get new recipes\n",
    "url = 'https://www.loveandlemons.com/vegetarian-recipes/'\n",
    "response = requests.get(url)\n",
    "soup = BeautifulSoup(response.text, 'html.parser')"
   ]
  },
  {
   "cell_type": "code",
   "execution_count": null,
   "metadata": {},
   "outputs": [],
   "source": [
    "# Finding all links on page to sort through and find links to specific recipes\n",
    "links = soup.find_all('a')"
   ]
  },
  {
   "cell_type": "code",
   "execution_count": null,
   "metadata": {},
   "outputs": [],
   "source": [
    "# Open a CSV file in write mode\n",
    "with open('recipes.csv', 'w', newline='', encoding='utf-8') as csvfile:\n",
    "    # Create a CSV writer object\n",
    "    writer = csv.writer(csvfile)\n",
    "\n",
    "    # Header row\n",
    "    writer.writerow(['Recipe URL', 'Recipe Name', 'Prep Time', 'Cook Time', 'Ingredient List', 'Equipment List'])\n",
    "\n",
    "    # Extracting text from each recipe\n",
    "    for link in links:\n",
    "        link = link.get('href')\n",
    "        if (('https://www.loveandlemons.com/' in link) and (url not in link)):\n",
    "        #   print(link)\n",
    "\n",
    "          response = requests.get(link)\n",
    "          soup = BeautifulSoup(response.text, 'html.parser')\n",
    "\n",
    "          recipeName = soup.select_one('.wprm-recipe-template-love-and-lemons .wprm-recipe-name')\n",
    "          if recipeName:\n",
    "                recipeName = recipeName.text.strip()\n",
    "          else:\n",
    "              recipeName = \"N/A\"\n",
    "          # print(recipeName)\n",
    "\n",
    "          prepTime = soup.select_one('.wprm-recipe-template-love-and-lemons .wprm-recipe-prep_time-minutes')\n",
    "          if prepTime:\n",
    "                prepTime = prepTime.text.strip()\n",
    "          else:\n",
    "              prepTime = \"N/A\"\n",
    "          # print(prepTime)\n",
    "\n",
    "          cookTime = soup.select_one('.wprm-recipe-template-love-and-lemons .wprm-recipe-cook_time-minutes')\n",
    "          if cookTime:\n",
    "                cookTime = cookTime.text.strip()\n",
    "          else:\n",
    "              cookTime = \"N/A\"\n",
    "          # print(cookTime)\n",
    "\n",
    "          ingredientList = soup.select_one('.wprm-recipe-template-love-and-lemons .wprm-recipe-ingredients')\n",
    "          if ingredientList:\n",
    "                ingredientList = ingredientList.text.strip()\n",
    "          else:\n",
    "              ingredientList = \"N/A\"\n",
    "          # print(ingredientList)\n",
    "\n",
    "          equipmentList = soup.select_one('.wprm-recipe-template-love-and-lemons .wprm-recipe-equipment-list')\n",
    "          if equipmentList:\n",
    "                equipmentList = equipmentList.text.strip()\n",
    "          else:\n",
    "              equipmentList = \"N/A\"\n",
    "          # print(equipmentList)\n",
    "\n",
    "          # Write the scraped data to the CSV file\n",
    "          writer.writerow([link, recipeName, prepTime, cookTime, ingredientList, equipmentList])\n"
   ]
  }
 ],
 "metadata": {
  "kernelspec": {
   "display_name": "Qt",
   "language": "python",
   "name": "python3"
  },
  "language_info": {
   "codemirror_mode": {
    "name": "ipython",
    "version": 3
   },
   "file_extension": ".py",
   "mimetype": "text/x-python",
   "name": "python",
   "nbconvert_exporter": "python",
   "pygments_lexer": "ipython3",
   "version": "3.9.1"
  }
 },
 "nbformat": 4,
 "nbformat_minor": 2
}
